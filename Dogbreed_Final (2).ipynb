{
  "nbformat": 4,
  "nbformat_minor": 0,
  "metadata": {
    "colab": {
      "name": "Dogbreed_Final.ipynb",
      "version": "0.3.2",
      "provenance": [],
      "collapsed_sections": []
    },
    "kernelspec": {
      "name": "python3",
      "display_name": "Python 3"
    },
    "accelerator": "GPU"
  },
  "cells": [
    {
      "metadata": {
        "id": "Y3AAQ36b6_u3",
        "colab_type": "code",
        "colab": {
          "base_uri": "https://localhost:8080/",
          "height": 34
        },
        "outputId": "c444722e-7b47-443b-821d-868964f33728"
      },
      "cell_type": "code",
      "source": [
        "# Import kaggle.json from google drive\n",
        "# This snippet will output a link which needs authentication from any google account\n",
        "from googleapiclient.discovery import build\n",
        "import io, os\n",
        "from googleapiclient.http import MediaIoBaseDownload\n",
        "from google.colab import auth\n",
        "auth.authenticate_user()\n",
        "drive_service = build('drive', 'v3')\n",
        "results = drive_service.files().list(\n",
        "    q=\"name = 'kaggle.json'\", fields=\"files(id)\").execute()\n",
        "kaggle_api_key = results.get('files', [])\n",
        "# print(kaggle_api_key)\n",
        "filename = \"/content/.kaggle/kaggle.json\"\n",
        "os.makedirs(os.path.dirname(filename), exist_ok=True)\n",
        "request = drive_service.files().get_media(fileId=kaggle_api_key[0]['id'])\n",
        "fh = io.FileIO(filename, 'wb')\n",
        "downloader = MediaIoBaseDownload(fh, request)\n",
        "done = False\n",
        "while done is False:\n",
        "    status, done = downloader.next_chunk()\n",
        "    print(\"Download %d%%.\" % int(status.progress() * 100))\n",
        "os.chmod(filename, 600)"
      ],
      "execution_count": 1,
      "outputs": [
        {
          "output_type": "stream",
          "text": [
            "Download 100%.\n"
          ],
          "name": "stdout"
        }
      ]
    },
    {
      "metadata": {
        "id": "cZrVIoyh7ITX",
        "colab_type": "code",
        "colab": {}
      },
      "cell_type": "code",
      "source": [
        "!chmod 600 /content/.kaggle/kaggle.json"
      ],
      "execution_count": 0,
      "outputs": []
    },
    {
      "metadata": {
        "id": "TPJmWZEv7LW9",
        "colab_type": "code",
        "colab": {}
      },
      "cell_type": "code",
      "source": [
        "!cp /content/.kaggle/kaggle.json ~/.kaggle/kaggle.json"
      ],
      "execution_count": 0,
      "outputs": []
    },
    {
      "metadata": {
        "id": "FOrUJOVP7OeM",
        "colab_type": "code",
        "colab": {}
      },
      "cell_type": "code",
      "source": [
        "!mkdir dogsbreeds_final"
      ],
      "execution_count": 0,
      "outputs": []
    },
    {
      "metadata": {
        "id": "MSCTjyU47ROX",
        "colab_type": "code",
        "colab": {
          "base_uri": "https://localhost:8080/",
          "height": 218
        },
        "outputId": "e3112119-d755-421e-90e0-a6961acdfa42"
      },
      "cell_type": "code",
      "source": [
        "!kaggle competitions download -c dog-breed-identification -p /dogsbreeds_final/"
      ],
      "execution_count": 7,
      "outputs": [
        {
          "output_type": "stream",
          "text": [
            "Downloading labels.csv.zip to /dogsbreeds_final\n",
            "\r  0% 0.00/214k [00:00<?, ?B/s]\n",
            "100% 214k/214k [00:00<00:00, 33.8MB/s]\n",
            "Downloading sample_submission.csv.zip to /dogsbreeds_final\n",
            "  0% 0.00/281k [00:00<?, ?B/s]\n",
            "100% 281k/281k [00:00<00:00, 38.1MB/s]\n",
            "Downloading test.zip to /dogsbreeds_final\n",
            "100% 346M/346M [00:03<00:00, 98.1MB/s]\n",
            "\n",
            "Downloading train.zip to /dogsbreeds_final\n",
            " 94% 324M/345M [00:02<00:00, 118MB/s]\n",
            "100% 345M/345M [00:02<00:00, 128MB/s]\n"
          ],
          "name": "stdout"
        }
      ]
    },
    {
      "metadata": {
        "id": "Pla327IG810S",
        "colab_type": "code",
        "colab": {}
      },
      "cell_type": "code",
      "source": [
        "os.chdir(\"/dogsbreeds_final/\")"
      ],
      "execution_count": 0,
      "outputs": []
    },
    {
      "metadata": {
        "id": "TKs4stE28_Zk",
        "colab_type": "code",
        "colab": {
          "base_uri": "https://localhost:8080/",
          "height": 34
        },
        "outputId": "735630a7-658c-434b-a785-21b3ffb4a53d"
      },
      "cell_type": "code",
      "source": [
        "!ls"
      ],
      "execution_count": 9,
      "outputs": [
        {
          "output_type": "stream",
          "text": [
            "labels.csv.zip\tsample_submission.csv.zip  test.zip  train.zip\n"
          ],
          "name": "stdout"
        }
      ]
    },
    {
      "metadata": {
        "id": "a7vd_oC09C_x",
        "colab_type": "code",
        "colab": {
          "base_uri": "https://localhost:8080/",
          "height": 50
        },
        "outputId": "133f2428-9f14-45c0-909d-8c1270171223"
      },
      "cell_type": "code",
      "source": [
        "!unzip -q \\*.zip"
      ],
      "execution_count": 10,
      "outputs": [
        {
          "output_type": "stream",
          "text": [
            "\n",
            "4 archives were successfully processed.\n"
          ],
          "name": "stdout"
        }
      ]
    },
    {
      "metadata": {
        "id": "xl2xXmIJ9IcQ",
        "colab_type": "code",
        "colab": {
          "base_uri": "https://localhost:8080/",
          "height": 50
        },
        "outputId": "1e394d8c-a790-4be7-ba6e-378ca23cfa58"
      },
      "cell_type": "code",
      "source": [
        "!ls"
      ],
      "execution_count": 11,
      "outputs": [
        {
          "output_type": "stream",
          "text": [
            "labels.csv\tsample_submission.csv\t   test      train\n",
            "labels.csv.zip\tsample_submission.csv.zip  test.zip  train.zip\n"
          ],
          "name": "stdout"
        }
      ]
    },
    {
      "metadata": {
        "id": "FsG03EMr9KZm",
        "colab_type": "code",
        "colab": {
          "base_uri": "https://localhost:8080/",
          "height": 34
        },
        "outputId": "bfe020ff-0881-4bd7-f4a4-f777ef1d41a6"
      },
      "cell_type": "code",
      "source": [
        "import os\n",
        "import numpy as np\n",
        "from tqdm import tqdm\n",
        "import cv2\n",
        "from PIL import Image\n",
        "import tensorflow as tf\n",
        "import skimage\n",
        "from skimage.transform import resize\n",
        "from sklearn.model_selection import train_test_split\n",
        "from keras.models import Sequential\n",
        "from keras import optimizers\n",
        "from keras.layers import Dense, Dropout, Activation, Flatten,BatchNormalization,GlobalAveragePooling2D\n",
        "from keras.layers import Conv2D, MaxPooling2D\n",
        "from keras.applications.xception import Xception\n",
        "from keras.layers import LeakyReLU\n",
        "from keras.applications import InceptionResNetV2"
      ],
      "execution_count": 2,
      "outputs": [
        {
          "output_type": "stream",
          "text": [
            "Using TensorFlow backend.\n"
          ],
          "name": "stderr"
        }
      ]
    },
    {
      "metadata": {
        "id": "1tHOKJ0b9WaS",
        "colab_type": "code",
        "colab": {}
      },
      "cell_type": "code",
      "source": [
        "import pandas as pd\n",
        "PATH=\"/dogsbreeds_final/\"\n",
        "df = pd.read_csv(os.path.join(PATH,'labels.csv'))\n",
        "df_test = pd.read_csv(os.path.join(PATH,'sample_submission.csv'))"
      ],
      "execution_count": 0,
      "outputs": []
    },
    {
      "metadata": {
        "id": "VuEK2F_Jyia_",
        "colab_type": "text"
      },
      "cell_type": "markdown",
      "source": [
        "**Load, Resize and preprocess the images **"
      ]
    },
    {
      "metadata": {
        "id": "PdyITWeU9c3z",
        "colab_type": "code",
        "colab": {
          "base_uri": "https://localhost:8080/",
          "height": 87
        },
        "outputId": "5ffdbf3b-313d-4d47-9503-b93729c485dc"
      },
      "cell_type": "code",
      "source": [
        "targets_series = pd.Series(df['breed'])\n",
        "one_hot = pd.get_dummies(targets_series, sparse = True)\n",
        "one_hot_labels = np.asarray(one_hot)\n",
        "\n",
        "im_size = 32\n",
        "x_train1 = []\n",
        "y_train1 = []\n",
        "x_test1 = []\n",
        "i = 0 \n",
        "new_shape = (128,128,3)\n",
        "\n",
        "for f, breed in tqdm(df.values):\n",
        "    img = cv2.imread('/dogsbreeds_final/train/{}.jpg'.format(f))\n",
        "    label = one_hot_labels[i]\n",
        "    #print(label)\n",
        "    #x_train1.append(cv2.resize(img, (im_size, im_size)))\n",
        "    X_data_resized = resize(img, new_shape)\n",
        "    x_train1.append(X_data_resized)\n",
        "    #res = tf.keras.backend.resize_images(img, 32, 32, \"channels_last\",interpolation='bilinear')\n",
        "    y_train1.append(label)\n",
        "    i += 1\n",
        "  "
      ],
      "execution_count": 5,
      "outputs": [
        {
          "output_type": "stream",
          "text": [
            "  0%|          | 0/10222 [00:00<?, ?it/s]/usr/local/lib/python3.6/dist-packages/skimage/transform/_warps.py:84: UserWarning: The default mode, 'constant', will be changed to 'reflect' in skimage 0.15.\n",
            "  warn(\"The default mode, 'constant', will be changed to 'reflect' in \"\n",
            "100%|██████████| 10222/10222 [02:47<00:00, 61.13it/s]\n"
          ],
          "name": "stderr"
        }
      ]
    },
    {
      "metadata": {
        "id": "7VwGgsfw_Fjh",
        "colab_type": "code",
        "colab": {
          "base_uri": "https://localhost:8080/",
          "height": 50
        },
        "outputId": "0cd5a94a-094d-4f86-b1a3-3cb067b77cd9"
      },
      "cell_type": "code",
      "source": [
        "#new_shape = (32,32,3)\n",
        "\n",
        "y_train_raw = np.array(y_train1, np.uint8)\n",
        "x_train_raw = np.array(x_train1, np.float32) / 255.\n",
        "x_testContest  = np.array(x_test1, np.float32) / 255.\n",
        "\n",
        "num_class = y_train_raw.shape[1]\n",
        "\n",
        "print(x_train_raw.shape)\n",
        "print(y_train_raw.shape)   "
      ],
      "execution_count": 6,
      "outputs": [
        {
          "output_type": "stream",
          "text": [
            "(10222, 128, 128, 3)\n",
            "(10222, 120)\n"
          ],
          "name": "stdout"
        }
      ]
    },
    {
      "metadata": {
        "id": "KJQRo00NytvA",
        "colab_type": "text"
      },
      "cell_type": "markdown",
      "source": [
        "**Split Data into Train and Test**"
      ]
    },
    {
      "metadata": {
        "id": "RdqKZKX1_VTe",
        "colab_type": "code",
        "colab": {}
      },
      "cell_type": "code",
      "source": [
        "x_train,x_test,y_train,y_test = train_test_split(x_train_raw, y_train_raw, test_size=0.3, random_state=1)"
      ],
      "execution_count": 0,
      "outputs": []
    },
    {
      "metadata": {
        "id": "0F4PTZQD_d8Q",
        "colab_type": "code",
        "colab": {}
      },
      "cell_type": "code",
      "source": [
        "batch_size = 128\n",
        "epochs = 20\n",
        "learning_rate = 0.001"
      ],
      "execution_count": 0,
      "outputs": []
    },
    {
      "metadata": {
        "id": "7vL-VEt3D7i6",
        "colab_type": "text"
      },
      "cell_type": "markdown",
      "source": [
        "**Best performing Model**"
      ]
    },
    {
      "metadata": {
        "id": "9LsRuRsS_llq",
        "colab_type": "code",
        "colab": {
          "base_uri": "https://localhost:8080/",
          "height": 739
        },
        "outputId": "81f857dc-4c7a-419c-a5a3-41940c05dce7"
      },
      "cell_type": "code",
      "source": [
        "model = Sequential()\n",
        "model.add(BatchNormalization(input_shape=(128, 128, 3)))\n",
        "model.add(Conv2D(filters=16, kernel_size=3, kernel_initializer='he_normal', activation='relu'))\n",
        "model.add(MaxPooling2D(pool_size=2))\n",
        "model.add(BatchNormalization())\n",
        "model.add(Conv2D(filters=32, kernel_size=3, kernel_initializer='he_normal', activation='relu'))\n",
        "model.add(MaxPooling2D(pool_size=2))\n",
        "model.add(BatchNormalization())\n",
        "model.add(Conv2D(filters=64, kernel_size=3, kernel_initializer='he_normal', activation='relu'))\n",
        "model.add(MaxPooling2D(pool_size=2))\n",
        "model.add(BatchNormalization())\n",
        "model.add(Conv2D(filters=128, kernel_size=3, kernel_initializer='he_normal', activation='relu'))\n",
        "model.add(MaxPooling2D(pool_size=2))\n",
        "model.add(BatchNormalization())\n",
        "model.add(Conv2D(filters=256, kernel_size=3, kernel_initializer='he_normal', activation='relu'))\n",
        "model.add(MaxPooling2D(pool_size=2))\n",
        "model.add(BatchNormalization())\n",
        "model.add(GlobalAveragePooling2D())\n",
        "model.add(Dense(num_class, activation='softmax'))\n",
        "model.summary()"
      ],
      "execution_count": 40,
      "outputs": [
        {
          "output_type": "stream",
          "text": [
            "_________________________________________________________________\n",
            "Layer (type)                 Output Shape              Param #   \n",
            "=================================================================\n",
            "batch_normalization_31 (Batc (None, 128, 128, 3)       12        \n",
            "_________________________________________________________________\n",
            "conv2d_26 (Conv2D)           (None, 126, 126, 16)      448       \n",
            "_________________________________________________________________\n",
            "max_pooling2d_26 (MaxPooling (None, 63, 63, 16)        0         \n",
            "_________________________________________________________________\n",
            "batch_normalization_32 (Batc (None, 63, 63, 16)        64        \n",
            "_________________________________________________________________\n",
            "conv2d_27 (Conv2D)           (None, 61, 61, 32)        4640      \n",
            "_________________________________________________________________\n",
            "max_pooling2d_27 (MaxPooling (None, 30, 30, 32)        0         \n",
            "_________________________________________________________________\n",
            "batch_normalization_33 (Batc (None, 30, 30, 32)        128       \n",
            "_________________________________________________________________\n",
            "conv2d_28 (Conv2D)           (None, 28, 28, 64)        18496     \n",
            "_________________________________________________________________\n",
            "max_pooling2d_28 (MaxPooling (None, 14, 14, 64)        0         \n",
            "_________________________________________________________________\n",
            "batch_normalization_34 (Batc (None, 14, 14, 64)        256       \n",
            "_________________________________________________________________\n",
            "conv2d_29 (Conv2D)           (None, 12, 12, 128)       73856     \n",
            "_________________________________________________________________\n",
            "max_pooling2d_29 (MaxPooling (None, 6, 6, 128)         0         \n",
            "_________________________________________________________________\n",
            "batch_normalization_35 (Batc (None, 6, 6, 128)         512       \n",
            "_________________________________________________________________\n",
            "conv2d_30 (Conv2D)           (None, 4, 4, 256)         295168    \n",
            "_________________________________________________________________\n",
            "max_pooling2d_30 (MaxPooling (None, 2, 2, 256)         0         \n",
            "_________________________________________________________________\n",
            "batch_normalization_36 (Batc (None, 2, 2, 256)         1024      \n",
            "_________________________________________________________________\n",
            "global_average_pooling2d_5 ( (None, 256)               0         \n",
            "_________________________________________________________________\n",
            "dense_4 (Dense)              (None, 120)               30840     \n",
            "=================================================================\n",
            "Total params: 425,444\n",
            "Trainable params: 424,446\n",
            "Non-trainable params: 998\n",
            "_________________________________________________________________\n"
          ],
          "name": "stdout"
        }
      ]
    },
    {
      "metadata": {
        "id": "0uMNCwjhAIdw",
        "colab_type": "code",
        "colab": {
          "base_uri": "https://localhost:8080/",
          "height": 706
        },
        "outputId": "3a38e715-4979-4234-d027-6aed9185a2c0"
      },
      "cell_type": "code",
      "source": [
        "opt = optimizers.Adam(lr = learning_rate)\n",
        "model.compile(loss='categorical_crossentropy',optimizer=opt,metrics=['accuracy'])\n",
        "history = model.fit(x_train, y_train, validation_data=(x_test, y_test),\n",
        "                  batch_size=batch_size,verbose=2, epochs=epochs, shuffle = True)"
      ],
      "execution_count": 41,
      "outputs": [
        {
          "output_type": "stream",
          "text": [
            "Train on 7155 samples, validate on 3067 samples\n",
            "Epoch 1/20\n",
            " - 10s - loss: 4.6109 - acc: 0.0366 - val_loss: 4.5235 - val_acc: 0.0525\n",
            "Epoch 2/20\n",
            " - 8s - loss: 4.0289 - acc: 0.1019 - val_loss: 4.2774 - val_acc: 0.0717\n",
            "Epoch 3/20\n",
            " - 8s - loss: 3.6494 - acc: 0.1757 - val_loss: 4.1586 - val_acc: 0.0867\n",
            "Epoch 4/20\n",
            " - 7s - loss: 3.2650 - acc: 0.2738 - val_loss: 4.1234 - val_acc: 0.0910\n",
            "Epoch 5/20\n",
            " - 7s - loss: 2.8647 - acc: 0.3782 - val_loss: 4.1364 - val_acc: 0.0978\n",
            "Epoch 6/20\n",
            " - 7s - loss: 2.4166 - acc: 0.5110 - val_loss: 4.0632 - val_acc: 0.1017\n",
            "Epoch 7/20\n",
            " - 7s - loss: 1.9388 - acc: 0.6477 - val_loss: 4.1734 - val_acc: 0.0890\n",
            "Epoch 8/20\n",
            " - 7s - loss: 1.4647 - acc: 0.7740 - val_loss: 4.1758 - val_acc: 0.0871\n",
            "Epoch 9/20\n",
            " - 7s - loss: 1.0033 - acc: 0.8839 - val_loss: 4.1667 - val_acc: 0.0975\n",
            "Epoch 10/20\n",
            " - 7s - loss: 0.6293 - acc: 0.9533 - val_loss: 4.3042 - val_acc: 0.0919\n",
            "Epoch 11/20\n",
            " - 7s - loss: 0.3631 - acc: 0.9836 - val_loss: 4.3226 - val_acc: 0.0942\n",
            "Epoch 12/20\n",
            " - 7s - loss: 0.1986 - acc: 0.9945 - val_loss: 4.3181 - val_acc: 0.0985\n",
            "Epoch 13/20\n",
            " - 7s - loss: 0.1073 - acc: 0.9986 - val_loss: 4.3909 - val_acc: 0.1004\n",
            "Epoch 14/20\n",
            " - 7s - loss: 0.0726 - acc: 0.9990 - val_loss: 4.3891 - val_acc: 0.0975\n",
            "Epoch 15/20\n",
            " - 8s - loss: 0.0515 - acc: 0.9996 - val_loss: 4.3718 - val_acc: 0.1004\n",
            "Epoch 16/20\n",
            " - 8s - loss: 0.0388 - acc: 0.9996 - val_loss: 4.4092 - val_acc: 0.1017\n",
            "Epoch 17/20\n",
            " - 8s - loss: 0.0358 - acc: 0.9993 - val_loss: 4.4201 - val_acc: 0.1037\n",
            "Epoch 18/20\n",
            " - 8s - loss: 0.0282 - acc: 0.9994 - val_loss: 4.4626 - val_acc: 0.1060\n",
            "Epoch 19/20\n",
            " - 8s - loss: 0.0269 - acc: 0.9996 - val_loss: 4.4784 - val_acc: 0.1050\n",
            "Epoch 20/20\n",
            " - 8s - loss: 0.0226 - acc: 0.9994 - val_loss: 4.5021 - val_acc: 0.1063\n"
          ],
          "name": "stdout"
        }
      ]
    },
    {
      "metadata": {
        "id": "kUxZxzTEy8N6",
        "colab_type": "text"
      },
      "cell_type": "markdown",
      "source": [
        "**Best model score and loss**"
      ]
    },
    {
      "metadata": {
        "id": "xLIIN2KUDQDl",
        "colab_type": "code",
        "colab": {
          "base_uri": "https://localhost:8080/",
          "height": 50
        },
        "outputId": "8c9af4f6-e341-427d-ad90-ecb835804567"
      },
      "cell_type": "code",
      "source": [
        "loss, acc = model.evaluate(x_test, y_test, verbose=0)\n",
        "print('Test loss:', loss)\n",
        "print('Test acc:', acc*100)"
      ],
      "execution_count": 42,
      "outputs": [
        {
          "output_type": "stream",
          "text": [
            "Test loss: 4.5020759876053456\n",
            "Test acc: 10.629279427121041\n"
          ],
          "name": "stdout"
        }
      ]
    },
    {
      "metadata": {
        "id": "kjwR5Zu5DaR1",
        "colab_type": "code",
        "colab": {
          "base_uri": "https://localhost:8080/",
          "height": 376
        },
        "outputId": "fb7f31d1-7d41-4af7-b02a-214276025d23"
      },
      "cell_type": "code",
      "source": [
        "import matplotlib.pyplot as plt\n",
        "plt.plot(history.history['acc'])\n",
        "plt.plot(history.history['val_acc'])\n",
        "plt.title('Model Accuracy')\n",
        "plt.ylabel('Accuracy')\n",
        "plt.xlabel('Epoch')\n",
        "plt.legend(['Train', 'Test'], loc='upper left')\n",
        "plt.show()"
      ],
      "execution_count": 43,
      "outputs": [
        {
          "output_type": "display_data",
          "data": {
            "image/png": "[encoded data removed]",
            "text/plain": [
              "<Figure size 576x396 with 1 Axes>"
            ]
          },
          "metadata": {
            "tags": []
          }
        }
      ]
    },
    {
      "metadata": {
        "id": "KwTfZtsWDmd2",
        "colab_type": "code",
        "colab": {
          "base_uri": "https://localhost:8080/",
          "height": 376
        },
        "outputId": "0d97cb8d-6fef-4036-f72a-19e82f6d9f36"
      },
      "cell_type": "code",
      "source": [
        "import matplotlib.pyplot as plt\n",
        "plt.plot(history.history['loss'])\n",
        "plt.plot(history.history['val_loss'])\n",
        "plt.title('Model Loss')\n",
        "plt.ylabel('Accuracy')\n",
        "plt.xlabel('Epoch')\n",
        "plt.legend(['Train', 'Test'], loc='upper left')\n",
        "plt.show()"
      ],
      "execution_count": 44,
      "outputs": [
        {
          "output_type": "display_data",
          "data": {
            "image/png": "[encoded data removed]",
            "text/plain": [
              "<Figure size 576x396 with 1 Axes>"
            ]
          },
          "metadata": {
            "tags": []
          }
        }
      ]
    },
    {
      "metadata": {
        "id": "xWAoCYupbBbE",
        "colab_type": "text"
      },
      "cell_type": "markdown",
      "source": [
        "**Pre-trained Model Xception**"
      ]
    },
    {
      "metadata": {
        "id": "LIVhvB4zctyI",
        "colab_type": "code",
        "colab": {
          "base_uri": "https://localhost:8080/",
          "height": 4842
        },
        "outputId": "e82a67ab-6457-4428-b110-6a1eee310799"
      },
      "cell_type": "code",
      "source": [
        "nTrain = 10000\n",
        "#datagen = ImageGenerator(rescale=1.0/255)\n",
        "#train_features  = np.zeros()\n",
        "base_model = Xception(weights='imagenet',include_top= False ,input_shape=(128,128,3))\n",
        "# Model structure\n",
        "base_model.summary()"
      ],
      "execution_count": 8,
      "outputs": [
        {
          "output_type": "stream",
          "text": [
            "WARNING:tensorflow:From /usr/local/lib/python3.6/dist-packages/tensorflow/python/framework/op_def_library.py:263: colocate_with (from tensorflow.python.framework.ops) is deprecated and will be removed in a future version.\n",
            "Instructions for updating:\n",
            "Colocations handled automatically by placer.\n",
            "__________________________________________________________________________________________________\n",
            "Layer (type)                    Output Shape         Param #     Connected to                     \n",
            "==================================================================================================\n",
            "input_1 (InputLayer)            (None, 128, 128, 3)  0                                            \n",
            "__________________________________________________________________________________________________\n",
            "block1_conv1 (Conv2D)           (None, 63, 63, 32)   864         input_1[0][0]                    \n",
            "__________________________________________________________________________________________________\n",
            "block1_conv1_bn (BatchNormaliza (None, 63, 63, 32)   128         block1_conv1[0][0]               \n",
            "__________________________________________________________________________________________________\n",
            "block1_conv1_act (Activation)   (None, 63, 63, 32)   0           block1_conv1_bn[0][0]            \n",
            "__________________________________________________________________________________________________\n",
            "block1_conv2 (Conv2D)           (None, 61, 61, 64)   18432       block1_conv1_act[0][0]           \n",
            "__________________________________________________________________________________________________\n",
            "block1_conv2_bn (BatchNormaliza (None, 61, 61, 64)   256         block1_conv2[0][0]               \n",
            "__________________________________________________________________________________________________\n",
            "block1_conv2_act (Activation)   (None, 61, 61, 64)   0           block1_conv2_bn[0][0]            \n",
            "__________________________________________________________________________________________________\n",
            "block2_sepconv1 (SeparableConv2 (None, 61, 61, 128)  8768        block1_conv2_act[0][0]           \n",
            "__________________________________________________________________________________________________\n",
            "block2_sepconv1_bn (BatchNormal (None, 61, 61, 128)  512         block2_sepconv1[0][0]            \n",
            "__________________________________________________________________________________________________\n",
            "block2_sepconv2_act (Activation (None, 61, 61, 128)  0           block2_sepconv1_bn[0][0]         \n",
            "__________________________________________________________________________________________________\n",
            "block2_sepconv2 (SeparableConv2 (None, 61, 61, 128)  17536       block2_sepconv2_act[0][0]        \n",
            "__________________________________________________________________________________________________\n",
            "block2_sepconv2_bn (BatchNormal (None, 61, 61, 128)  512         block2_sepconv2[0][0]            \n",
            "__________________________________________________________________________________________________\n",
            "conv2d_1 (Conv2D)               (None, 31, 31, 128)  8192        block1_conv2_act[0][0]           \n",
            "__________________________________________________________________________________________________\n",
            "block2_pool (MaxPooling2D)      (None, 31, 31, 128)  0           block2_sepconv2_bn[0][0]         \n",
            "__________________________________________________________________________________________________\n",
            "batch_normalization_1 (BatchNor (None, 31, 31, 128)  512         conv2d_1[0][0]                   \n",
            "__________________________________________________________________________________________________\n",
            "add_1 (Add)                     (None, 31, 31, 128)  0           block2_pool[0][0]                \n",
            "                                                                 batch_normalization_1[0][0]      \n",
            "__________________________________________________________________________________________________\n",
            "block3_sepconv1_act (Activation (None, 31, 31, 128)  0           add_1[0][0]                      \n",
            "__________________________________________________________________________________________________\n",
            "block3_sepconv1 (SeparableConv2 (None, 31, 31, 256)  33920       block3_sepconv1_act[0][0]        \n",
            "__________________________________________________________________________________________________\n",
            "block3_sepconv1_bn (BatchNormal (None, 31, 31, 256)  1024        block3_sepconv1[0][0]            \n",
            "__________________________________________________________________________________________________\n",
            "block3_sepconv2_act (Activation (None, 31, 31, 256)  0           block3_sepconv1_bn[0][0]         \n",
            "__________________________________________________________________________________________________\n",
            "block3_sepconv2 (SeparableConv2 (None, 31, 31, 256)  67840       block3_sepconv2_act[0][0]        \n",
            "__________________________________________________________________________________________________\n",
            "block3_sepconv2_bn (BatchNormal (None, 31, 31, 256)  1024        block3_sepconv2[0][0]            \n",
            "__________________________________________________________________________________________________\n",
            "conv2d_2 (Conv2D)               (None, 16, 16, 256)  32768       add_1[0][0]                      \n",
            "__________________________________________________________________________________________________\n",
            "block3_pool (MaxPooling2D)      (None, 16, 16, 256)  0           block3_sepconv2_bn[0][0]         \n",
            "__________________________________________________________________________________________________\n",
            "batch_normalization_2 (BatchNor (None, 16, 16, 256)  1024        conv2d_2[0][0]                   \n",
            "__________________________________________________________________________________________________\n",
            "add_2 (Add)                     (None, 16, 16, 256)  0           block3_pool[0][0]                \n",
            "                                                                 batch_normalization_2[0][0]      \n",
            "__________________________________________________________________________________________________\n",
            "block4_sepconv1_act (Activation (None, 16, 16, 256)  0           add_2[0][0]                      \n",
            "__________________________________________________________________________________________________\n",
            "block4_sepconv1 (SeparableConv2 (None, 16, 16, 728)  188672      block4_sepconv1_act[0][0]        \n",
            "__________________________________________________________________________________________________\n",
            "block4_sepconv1_bn (BatchNormal (None, 16, 16, 728)  2912        block4_sepconv1[0][0]            \n",
            "__________________________________________________________________________________________________\n",
            "block4_sepconv2_act (Activation (None, 16, 16, 728)  0           block4_sepconv1_bn[0][0]         \n",
            "__________________________________________________________________________________________________\n",
            "block4_sepconv2 (SeparableConv2 (None, 16, 16, 728)  536536      block4_sepconv2_act[0][0]        \n",
            "__________________________________________________________________________________________________\n",
            "block4_sepconv2_bn (BatchNormal (None, 16, 16, 728)  2912        block4_sepconv2[0][0]            \n",
            "__________________________________________________________________________________________________\n",
            "conv2d_3 (Conv2D)               (None, 8, 8, 728)    186368      add_2[0][0]                      \n",
            "__________________________________________________________________________________________________\n",
            "block4_pool (MaxPooling2D)      (None, 8, 8, 728)    0           block4_sepconv2_bn[0][0]         \n",
            "__________________________________________________________________________________________________\n",
            "batch_normalization_3 (BatchNor (None, 8, 8, 728)    2912        conv2d_3[0][0]                   \n",
            "__________________________________________________________________________________________________\n",
            "add_3 (Add)                     (None, 8, 8, 728)    0           block4_pool[0][0]                \n",
            "                                                                 batch_normalization_3[0][0]      \n",
            "__________________________________________________________________________________________________\n",
            "block5_sepconv1_act (Activation (None, 8, 8, 728)    0           add_3[0][0]                      \n",
            "__________________________________________________________________________________________________\n",
            "block5_sepconv1 (SeparableConv2 (None, 8, 8, 728)    536536      block5_sepconv1_act[0][0]        \n",
            "__________________________________________________________________________________________________\n",
            "block5_sepconv1_bn (BatchNormal (None, 8, 8, 728)    2912        block5_sepconv1[0][0]            \n",
            "__________________________________________________________________________________________________\n",
            "block5_sepconv2_act (Activation (None, 8, 8, 728)    0           block5_sepconv1_bn[0][0]         \n",
            "__________________________________________________________________________________________________\n",
            "block5_sepconv2 (SeparableConv2 (None, 8, 8, 728)    536536      block5_sepconv2_act[0][0]        \n",
            "__________________________________________________________________________________________________\n",
            "block5_sepconv2_bn (BatchNormal (None, 8, 8, 728)    2912        block5_sepconv2[0][0]            \n",
            "__________________________________________________________________________________________________\n",
            "block5_sepconv3_act (Activation (None, 8, 8, 728)    0           block5_sepconv2_bn[0][0]         \n",
            "__________________________________________________________________________________________________\n",
            "block5_sepconv3 (SeparableConv2 (None, 8, 8, 728)    536536      block5_sepconv3_act[0][0]        \n",
            "__________________________________________________________________________________________________\n",
            "block5_sepconv3_bn (BatchNormal (None, 8, 8, 728)    2912        block5_sepconv3[0][0]            \n",
            "__________________________________________________________________________________________________\n",
            "add_4 (Add)                     (None, 8, 8, 728)    0           block5_sepconv3_bn[0][0]         \n",
            "                                                                 add_3[0][0]                      \n",
            "__________________________________________________________________________________________________\n",
            "block6_sepconv1_act (Activation (None, 8, 8, 728)    0           add_4[0][0]                      \n",
            "__________________________________________________________________________________________________\n",
            "block6_sepconv1 (SeparableConv2 (None, 8, 8, 728)    536536      block6_sepconv1_act[0][0]        \n",
            "__________________________________________________________________________________________________\n",
            "block6_sepconv1_bn (BatchNormal (None, 8, 8, 728)    2912        block6_sepconv1[0][0]            \n",
            "__________________________________________________________________________________________________\n",
            "block6_sepconv2_act (Activation (None, 8, 8, 728)    0           block6_sepconv1_bn[0][0]         \n",
            "__________________________________________________________________________________________________\n",
            "block6_sepconv2 (SeparableConv2 (None, 8, 8, 728)    536536      block6_sepconv2_act[0][0]        \n",
            "__________________________________________________________________________________________________\n",
            "block6_sepconv2_bn (BatchNormal (None, 8, 8, 728)    2912        block6_sepconv2[0][0]            \n",
            "__________________________________________________________________________________________________\n",
            "block6_sepconv3_act (Activation (None, 8, 8, 728)    0           block6_sepconv2_bn[0][0]         \n",
            "__________________________________________________________________________________________________\n",
            "block6_sepconv3 (SeparableConv2 (None, 8, 8, 728)    536536      block6_sepconv3_act[0][0]        \n",
            "__________________________________________________________________________________________________\n",
            "block6_sepconv3_bn (BatchNormal (None, 8, 8, 728)    2912        block6_sepconv3[0][0]            \n",
            "__________________________________________________________________________________________________\n",
            "add_5 (Add)                     (None, 8, 8, 728)    0           block6_sepconv3_bn[0][0]         \n",
            "                                                                 add_4[0][0]                      \n",
            "__________________________________________________________________________________________________\n",
            "block7_sepconv1_act (Activation (None, 8, 8, 728)    0           add_5[0][0]                      \n",
            "__________________________________________________________________________________________________\n",
            "block7_sepconv1 (SeparableConv2 (None, 8, 8, 728)    536536      block7_sepconv1_act[0][0]        \n",
            "__________________________________________________________________________________________________\n",
            "block7_sepconv1_bn (BatchNormal (None, 8, 8, 728)    2912        block7_sepconv1[0][0]            \n",
            "__________________________________________________________________________________________________\n",
            "block7_sepconv2_act (Activation (None, 8, 8, 728)    0           block7_sepconv1_bn[0][0]         \n",
            "__________________________________________________________________________________________________\n",
            "block7_sepconv2 (SeparableConv2 (None, 8, 8, 728)    536536      block7_sepconv2_act[0][0]        \n",
            "__________________________________________________________________________________________________\n",
            "block7_sepconv2_bn (BatchNormal (None, 8, 8, 728)    2912        block7_sepconv2[0][0]            \n",
            "__________________________________________________________________________________________________\n",
            "block7_sepconv3_act (Activation (None, 8, 8, 728)    0           block7_sepconv2_bn[0][0]         \n",
            "__________________________________________________________________________________________________\n",
            "block7_sepconv3 (SeparableConv2 (None, 8, 8, 728)    536536      block7_sepconv3_act[0][0]        \n",
            "__________________________________________________________________________________________________\n",
            "block7_sepconv3_bn (BatchNormal (None, 8, 8, 728)    2912        block7_sepconv3[0][0]            \n",
            "__________________________________________________________________________________________________\n",
            "add_6 (Add)                     (None, 8, 8, 728)    0           block7_sepconv3_bn[0][0]         \n",
            "                                                                 add_5[0][0]                      \n",
            "__________________________________________________________________________________________________\n",
            "block8_sepconv1_act (Activation (None, 8, 8, 728)    0           add_6[0][0]                      \n",
            "__________________________________________________________________________________________________\n",
            "block8_sepconv1 (SeparableConv2 (None, 8, 8, 728)    536536      block8_sepconv1_act[0][0]        \n",
            "__________________________________________________________________________________________________\n",
            "block8_sepconv1_bn (BatchNormal (None, 8, 8, 728)    2912        block8_sepconv1[0][0]            \n",
            "__________________________________________________________________________________________________\n",
            "block8_sepconv2_act (Activation (None, 8, 8, 728)    0           block8_sepconv1_bn[0][0]         \n",
            "__________________________________________________________________________________________________\n",
            "block8_sepconv2 (SeparableConv2 (None, 8, 8, 728)    536536      block8_sepconv2_act[0][0]        \n",
            "__________________________________________________________________________________________________\n",
            "block8_sepconv2_bn (BatchNormal (None, 8, 8, 728)    2912        block8_sepconv2[0][0]            \n",
            "__________________________________________________________________________________________________\n",
            "block8_sepconv3_act (Activation (None, 8, 8, 728)    0           block8_sepconv2_bn[0][0]         \n",
            "__________________________________________________________________________________________________\n",
            "block8_sepconv3 (SeparableConv2 (None, 8, 8, 728)    536536      block8_sepconv3_act[0][0]        \n",
            "__________________________________________________________________________________________________\n",
            "block8_sepconv3_bn (BatchNormal (None, 8, 8, 728)    2912        block8_sepconv3[0][0]            \n",
            "__________________________________________________________________________________________________\n",
            "add_7 (Add)                     (None, 8, 8, 728)    0           block8_sepconv3_bn[0][0]         \n",
            "                                                                 add_6[0][0]                      \n",
            "__________________________________________________________________________________________________\n",
            "block9_sepconv1_act (Activation (None, 8, 8, 728)    0           add_7[0][0]                      \n",
            "__________________________________________________________________________________________________\n",
            "block9_sepconv1 (SeparableConv2 (None, 8, 8, 728)    536536      block9_sepconv1_act[0][0]        \n",
            "__________________________________________________________________________________________________\n",
            "block9_sepconv1_bn (BatchNormal (None, 8, 8, 728)    2912        block9_sepconv1[0][0]            \n",
            "__________________________________________________________________________________________________\n",
            "block9_sepconv2_act (Activation (None, 8, 8, 728)    0           block9_sepconv1_bn[0][0]         \n",
            "__________________________________________________________________________________________________\n",
            "block9_sepconv2 (SeparableConv2 (None, 8, 8, 728)    536536      block9_sepconv2_act[0][0]        \n",
            "__________________________________________________________________________________________________\n",
            "block9_sepconv2_bn (BatchNormal (None, 8, 8, 728)    2912        block9_sepconv2[0][0]            \n",
            "__________________________________________________________________________________________________\n",
            "block9_sepconv3_act (Activation (None, 8, 8, 728)    0           block9_sepconv2_bn[0][0]         \n",
            "__________________________________________________________________________________________________\n",
            "block9_sepconv3 (SeparableConv2 (None, 8, 8, 728)    536536      block9_sepconv3_act[0][0]        \n",
            "__________________________________________________________________________________________________\n",
            "block9_sepconv3_bn (BatchNormal (None, 8, 8, 728)    2912        block9_sepconv3[0][0]            \n",
            "__________________________________________________________________________________________________\n",
            "add_8 (Add)                     (None, 8, 8, 728)    0           block9_sepconv3_bn[0][0]         \n",
            "                                                                 add_7[0][0]                      \n",
            "__________________________________________________________________________________________________\n",
            "block10_sepconv1_act (Activatio (None, 8, 8, 728)    0           add_8[0][0]                      \n",
            "__________________________________________________________________________________________________\n",
            "block10_sepconv1 (SeparableConv (None, 8, 8, 728)    536536      block10_sepconv1_act[0][0]       \n",
            "__________________________________________________________________________________________________\n",
            "block10_sepconv1_bn (BatchNorma (None, 8, 8, 728)    2912        block10_sepconv1[0][0]           \n",
            "__________________________________________________________________________________________________\n",
            "block10_sepconv2_act (Activatio (None, 8, 8, 728)    0           block10_sepconv1_bn[0][0]        \n",
            "__________________________________________________________________________________________________\n",
            "block10_sepconv2 (SeparableConv (None, 8, 8, 728)    536536      block10_sepconv2_act[0][0]       \n",
            "__________________________________________________________________________________________________\n",
            "block10_sepconv2_bn (BatchNorma (None, 8, 8, 728)    2912        block10_sepconv2[0][0]           \n",
            "__________________________________________________________________________________________________\n",
            "block10_sepconv3_act (Activatio (None, 8, 8, 728)    0           block10_sepconv2_bn[0][0]        \n",
            "__________________________________________________________________________________________________\n",
            "block10_sepconv3 (SeparableConv (None, 8, 8, 728)    536536      block10_sepconv3_act[0][0]       \n",
            "__________________________________________________________________________________________________\n",
            "block10_sepconv3_bn (BatchNorma (None, 8, 8, 728)    2912        block10_sepconv3[0][0]           \n",
            "__________________________________________________________________________________________________\n",
            "add_9 (Add)                     (None, 8, 8, 728)    0           block10_sepconv3_bn[0][0]        \n",
            "                                                                 add_8[0][0]                      \n",
            "__________________________________________________________________________________________________\n",
            "block11_sepconv1_act (Activatio (None, 8, 8, 728)    0           add_9[0][0]                      \n",
            "__________________________________________________________________________________________________\n",
            "block11_sepconv1 (SeparableConv (None, 8, 8, 728)    536536      block11_sepconv1_act[0][0]       \n",
            "__________________________________________________________________________________________________\n",
            "block11_sepconv1_bn (BatchNorma (None, 8, 8, 728)    2912        block11_sepconv1[0][0]           \n",
            "__________________________________________________________________________________________________\n",
            "block11_sepconv2_act (Activatio (None, 8, 8, 728)    0           block11_sepconv1_bn[0][0]        \n",
            "__________________________________________________________________________________________________\n",
            "block11_sepconv2 (SeparableConv (None, 8, 8, 728)    536536      block11_sepconv2_act[0][0]       \n",
            "__________________________________________________________________________________________________\n",
            "block11_sepconv2_bn (BatchNorma (None, 8, 8, 728)    2912        block11_sepconv2[0][0]           \n",
            "__________________________________________________________________________________________________\n",
            "block11_sepconv3_act (Activatio (None, 8, 8, 728)    0           block11_sepconv2_bn[0][0]        \n",
            "__________________________________________________________________________________________________\n",
            "block11_sepconv3 (SeparableConv (None, 8, 8, 728)    536536      block11_sepconv3_act[0][0]       \n",
            "__________________________________________________________________________________________________\n",
            "block11_sepconv3_bn (BatchNorma (None, 8, 8, 728)    2912        block11_sepconv3[0][0]           \n",
            "__________________________________________________________________________________________________\n",
            "add_10 (Add)                    (None, 8, 8, 728)    0           block11_sepconv3_bn[0][0]        \n",
            "                                                                 add_9[0][0]                      \n",
            "__________________________________________________________________________________________________\n",
            "block12_sepconv1_act (Activatio (None, 8, 8, 728)    0           add_10[0][0]                     \n",
            "__________________________________________________________________________________________________\n",
            "block12_sepconv1 (SeparableConv (None, 8, 8, 728)    536536      block12_sepconv1_act[0][0]       \n",
            "__________________________________________________________________________________________________\n",
            "block12_sepconv1_bn (BatchNorma (None, 8, 8, 728)    2912        block12_sepconv1[0][0]           \n",
            "__________________________________________________________________________________________________\n",
            "block12_sepconv2_act (Activatio (None, 8, 8, 728)    0           block12_sepconv1_bn[0][0]        \n",
            "__________________________________________________________________________________________________\n",
            "block12_sepconv2 (SeparableConv (None, 8, 8, 728)    536536      block12_sepconv2_act[0][0]       \n",
            "__________________________________________________________________________________________________\n",
            "block12_sepconv2_bn (BatchNorma (None, 8, 8, 728)    2912        block12_sepconv2[0][0]           \n",
            "__________________________________________________________________________________________________\n",
            "block12_sepconv3_act (Activatio (None, 8, 8, 728)    0           block12_sepconv2_bn[0][0]        \n",
            "__________________________________________________________________________________________________\n",
            "block12_sepconv3 (SeparableConv (None, 8, 8, 728)    536536      block12_sepconv3_act[0][0]       \n",
            "__________________________________________________________________________________________________\n",
            "block12_sepconv3_bn (BatchNorma (None, 8, 8, 728)    2912        block12_sepconv3[0][0]           \n",
            "__________________________________________________________________________________________________\n",
            "add_11 (Add)                    (None, 8, 8, 728)    0           block12_sepconv3_bn[0][0]        \n",
            "                                                                 add_10[0][0]                     \n",
            "__________________________________________________________________________________________________\n",
            "block13_sepconv1_act (Activatio (None, 8, 8, 728)    0           add_11[0][0]                     \n",
            "__________________________________________________________________________________________________\n",
            "block13_sepconv1 (SeparableConv (None, 8, 8, 728)    536536      block13_sepconv1_act[0][0]       \n",
            "__________________________________________________________________________________________________\n",
            "block13_sepconv1_bn (BatchNorma (None, 8, 8, 728)    2912        block13_sepconv1[0][0]           \n",
            "__________________________________________________________________________________________________\n",
            "block13_sepconv2_act (Activatio (None, 8, 8, 728)    0           block13_sepconv1_bn[0][0]        \n",
            "__________________________________________________________________________________________________\n",
            "block13_sepconv2 (SeparableConv (None, 8, 8, 1024)   752024      block13_sepconv2_act[0][0]       \n",
            "__________________________________________________________________________________________________\n",
            "block13_sepconv2_bn (BatchNorma (None, 8, 8, 1024)   4096        block13_sepconv2[0][0]           \n",
            "__________________________________________________________________________________________________\n",
            "conv2d_4 (Conv2D)               (None, 4, 4, 1024)   745472      add_11[0][0]                     \n",
            "__________________________________________________________________________________________________\n",
            "block13_pool (MaxPooling2D)     (None, 4, 4, 1024)   0           block13_sepconv2_bn[0][0]        \n",
            "__________________________________________________________________________________________________\n",
            "batch_normalization_4 (BatchNor (None, 4, 4, 1024)   4096        conv2d_4[0][0]                   \n",
            "__________________________________________________________________________________________________\n",
            "add_12 (Add)                    (None, 4, 4, 1024)   0           block13_pool[0][0]               \n",
            "                                                                 batch_normalization_4[0][0]      \n",
            "__________________________________________________________________________________________________\n",
            "block14_sepconv1 (SeparableConv (None, 4, 4, 1536)   1582080     add_12[0][0]                     \n",
            "__________________________________________________________________________________________________\n",
            "block14_sepconv1_bn (BatchNorma (None, 4, 4, 1536)   6144        block14_sepconv1[0][0]           \n",
            "__________________________________________________________________________________________________\n",
            "block14_sepconv1_act (Activatio (None, 4, 4, 1536)   0           block14_sepconv1_bn[0][0]        \n",
            "__________________________________________________________________________________________________\n",
            "block14_sepconv2 (SeparableConv (None, 4, 4, 2048)   3159552     block14_sepconv1_act[0][0]       \n",
            "__________________________________________________________________________________________________\n",
            "block14_sepconv2_bn (BatchNorma (None, 4, 4, 2048)   8192        block14_sepconv2[0][0]           \n",
            "__________________________________________________________________________________________________\n",
            "block14_sepconv2_act (Activatio (None, 4, 4, 2048)   0           block14_sepconv2_bn[0][0]        \n",
            "==================================================================================================\n",
            "Total params: 20,861,480\n",
            "Trainable params: 20,806,952\n",
            "Non-trainable params: 54,528\n",
            "__________________________________________________________________________________________________\n"
          ],
          "name": "stdout"
        }
      ]
    },
    {
      "metadata": {
        "id": "yPo5f-Vod0kJ",
        "colab_type": "text"
      },
      "cell_type": "markdown",
      "source": [
        "**Adding DogBreed data to Xception model**"
      ]
    },
    {
      "metadata": {
        "id": "CGhUp96LdN1R",
        "colab_type": "code",
        "colab": {
          "base_uri": "https://localhost:8080/",
          "height": 50
        },
        "outputId": "1339b4ef-0700-4001-e3a2-1219dea2c24e"
      },
      "cell_type": "code",
      "source": [
        "x_train = base_model.predict(x_train)\n",
        "x_val = base_model.predict(x_test)\n",
        "print(x_train.shape)\n",
        "print(x_val.shape)"
      ],
      "execution_count": 47,
      "outputs": [
        {
          "output_type": "stream",
          "text": [
            "(7155, 4, 4, 2048)\n",
            "(3067, 4, 4, 2048)\n"
          ],
          "name": "stdout"
        }
      ]
    },
    {
      "metadata": {
        "id": "mNnfFYiSeNpD",
        "colab_type": "code",
        "colab": {}
      },
      "cell_type": "code",
      "source": [
        "model = Sequential()\n",
        "model.add(Dropout(0.3))\n",
        "model.add(Dense(512))\n",
        "model.add(LeakyReLU(alpha=0.1))\n",
        "model.add(Flatten())\n",
        "model.add(Dense(512))\n",
        "model.add(LeakyReLU(alpha=0.1))\n",
        "model.add(Dense(num_class,activation='softmax'))\n",
        "opt = optimizers.SGD(lr=.0001)\n",
        "model.compile(optimizer=opt,loss='categorical_crossentropy',metrics=['accuracy'])"
      ],
      "execution_count": 0,
      "outputs": []
    },
    {
      "metadata": {
        "id": "FedxoqwAeih6",
        "colab_type": "code",
        "colab": {
          "base_uri": "https://localhost:8080/",
          "height": 5144
        },
        "outputId": "d280cb9d-a0b1-4d26-ba8b-fb2b0b7f5a30"
      },
      "cell_type": "code",
      "source": [
        "fit_m =model.fit(x_train,y_train, batch_size=32, epochs=150,validation_data=(x_val,y_test),shuffle=True)"
      ],
      "execution_count": 52,
      "outputs": [
        {
          "output_type": "stream",
          "text": [
            "WARNING:tensorflow:From /usr/local/lib/python3.6/dist-packages/keras/backend/tensorflow_backend.py:3445: calling dropout (from tensorflow.python.ops.nn_ops) with keep_prob is deprecated and will be removed in a future version.\n",
            "Instructions for updating:\n",
            "Please use `rate` instead of `keep_prob`. Rate should be set to `rate = 1 - keep_prob`.\n",
            "Train on 7155 samples, validate on 3067 samples\n",
            "Epoch 1/150\n",
            "7155/7155 [==============================] - 7s 1ms/step - loss: 4.7892 - acc: 0.0087 - val_loss: 4.7887 - val_acc: 0.0062\n",
            "Epoch 2/150\n",
            "7155/7155 [==============================] - 4s 555us/step - loss: 4.7899 - acc: 0.0085 - val_loss: 4.7887 - val_acc: 0.0072\n",
            "Epoch 3/150\n",
            "7155/7155 [==============================] - 4s 557us/step - loss: 4.7898 - acc: 0.0075 - val_loss: 4.7886 - val_acc: 0.0078\n",
            "Epoch 4/150\n",
            "7155/7155 [==============================] - 4s 563us/step - loss: 4.7892 - acc: 0.0084 - val_loss: 4.7886 - val_acc: 0.0082\n",
            "Epoch 5/150\n",
            "7155/7155 [==============================] - 4s 563us/step - loss: 4.7896 - acc: 0.0094 - val_loss: 4.7885 - val_acc: 0.0082\n",
            "Epoch 6/150\n",
            "7155/7155 [==============================] - 4s 573us/step - loss: 4.7895 - acc: 0.0082 - val_loss: 4.7885 - val_acc: 0.0091\n",
            "Epoch 7/150\n",
            "7155/7155 [==============================] - 4s 571us/step - loss: 4.7900 - acc: 0.0073 - val_loss: 4.7885 - val_acc: 0.0095\n",
            "Epoch 8/150\n",
            "7155/7155 [==============================] - 4s 574us/step - loss: 4.7893 - acc: 0.0077 - val_loss: 4.7884 - val_acc: 0.0095\n",
            "Epoch 9/150\n",
            "7155/7155 [==============================] - 4s 575us/step - loss: 4.7894 - acc: 0.0061 - val_loss: 4.7884 - val_acc: 0.0091\n",
            "Epoch 10/150\n",
            "7155/7155 [==============================] - 4s 562us/step - loss: 4.7893 - acc: 0.0082 - val_loss: 4.7883 - val_acc: 0.0091\n",
            "Epoch 11/150\n",
            "7155/7155 [==============================] - 4s 565us/step - loss: 4.7897 - acc: 0.0084 - val_loss: 4.7883 - val_acc: 0.0088\n",
            "Epoch 12/150\n",
            "7155/7155 [==============================] - 4s 565us/step - loss: 4.7892 - acc: 0.0063 - val_loss: 4.7883 - val_acc: 0.0088\n",
            "Epoch 13/150\n",
            "7155/7155 [==============================] - 4s 558us/step - loss: 4.7886 - acc: 0.0082 - val_loss: 4.7882 - val_acc: 0.0091\n",
            "Epoch 14/150\n",
            "7155/7155 [==============================] - 4s 553us/step - loss: 4.7888 - acc: 0.0066 - val_loss: 4.7882 - val_acc: 0.0091\n",
            "Epoch 15/150\n",
            "7155/7155 [==============================] - 4s 561us/step - loss: 4.7889 - acc: 0.0092 - val_loss: 4.7882 - val_acc: 0.0091\n",
            "Epoch 16/150\n",
            "7155/7155 [==============================] - 4s 568us/step - loss: 4.7891 - acc: 0.0080 - val_loss: 4.7881 - val_acc: 0.0088\n",
            "Epoch 17/150\n",
            "7155/7155 [==============================] - 4s 568us/step - loss: 4.7891 - acc: 0.0073 - val_loss: 4.7881 - val_acc: 0.0085\n",
            "Epoch 18/150\n",
            "7155/7155 [==============================] - 4s 564us/step - loss: 4.7892 - acc: 0.0081 - val_loss: 4.7880 - val_acc: 0.0088\n",
            "Epoch 19/150\n",
            "7155/7155 [==============================] - 4s 564us/step - loss: 4.7893 - acc: 0.0075 - val_loss: 4.7880 - val_acc: 0.0088\n",
            "Epoch 20/150\n",
            "7155/7155 [==============================] - 4s 571us/step - loss: 4.7884 - acc: 0.0091 - val_loss: 4.7880 - val_acc: 0.0088\n",
            "Epoch 21/150\n",
            "7155/7155 [==============================] - 4s 566us/step - loss: 4.7890 - acc: 0.0082 - val_loss: 4.7879 - val_acc: 0.0091\n",
            "Epoch 22/150\n",
            "7155/7155 [==============================] - 4s 552us/step - loss: 4.7887 - acc: 0.0105 - val_loss: 4.7879 - val_acc: 0.0091\n",
            "Epoch 23/150\n",
            "7155/7155 [==============================] - 4s 556us/step - loss: 4.7883 - acc: 0.0077 - val_loss: 4.7879 - val_acc: 0.0088\n",
            "Epoch 24/150\n",
            "7155/7155 [==============================] - 4s 540us/step - loss: 4.7883 - acc: 0.0094 - val_loss: 4.7878 - val_acc: 0.0088\n",
            "Epoch 25/150\n",
            "7155/7155 [==============================] - 3s 479us/step - loss: 4.7876 - acc: 0.0085 - val_loss: 4.7878 - val_acc: 0.0088\n",
            "Epoch 26/150\n",
            "7155/7155 [==============================] - 3s 469us/step - loss: 4.7888 - acc: 0.0089 - val_loss: 4.7878 - val_acc: 0.0088\n",
            "Epoch 27/150\n",
            "7155/7155 [==============================] - 3s 463us/step - loss: 4.7881 - acc: 0.0082 - val_loss: 4.7877 - val_acc: 0.0091\n",
            "Epoch 28/150\n",
            "7155/7155 [==============================] - 3s 468us/step - loss: 4.7883 - acc: 0.0081 - val_loss: 4.7877 - val_acc: 0.0095\n",
            "Epoch 29/150\n",
            "7155/7155 [==============================] - 3s 469us/step - loss: 4.7882 - acc: 0.0089 - val_loss: 4.7877 - val_acc: 0.0095\n",
            "Epoch 30/150\n",
            "7155/7155 [==============================] - 3s 468us/step - loss: 4.7883 - acc: 0.0085 - val_loss: 4.7876 - val_acc: 0.0098\n",
            "Epoch 31/150\n",
            "7155/7155 [==============================] - 3s 468us/step - loss: 4.7879 - acc: 0.0088 - val_loss: 4.7876 - val_acc: 0.0095\n",
            "Epoch 32/150\n",
            "7155/7155 [==============================] - 3s 470us/step - loss: 4.7881 - acc: 0.0095 - val_loss: 4.7876 - val_acc: 0.0095\n",
            "Epoch 33/150\n",
            "7155/7155 [==============================] - 3s 462us/step - loss: 4.7876 - acc: 0.0078 - val_loss: 4.7875 - val_acc: 0.0098\n",
            "Epoch 34/150\n",
            "7155/7155 [==============================] - 3s 460us/step - loss: 4.7882 - acc: 0.0077 - val_loss: 4.7875 - val_acc: 0.0101\n",
            "Epoch 35/150\n",
            "7155/7155 [==============================] - 3s 465us/step - loss: 4.7879 - acc: 0.0078 - val_loss: 4.7875 - val_acc: 0.0104\n",
            "Epoch 36/150\n",
            "7155/7155 [==============================] - 3s 461us/step - loss: 4.7887 - acc: 0.0084 - val_loss: 4.7874 - val_acc: 0.0108\n",
            "Epoch 37/150\n",
            "7155/7155 [==============================] - 3s 461us/step - loss: 4.7880 - acc: 0.0094 - val_loss: 4.7874 - val_acc: 0.0108\n",
            "Epoch 38/150\n",
            "7155/7155 [==============================] - 3s 454us/step - loss: 4.7880 - acc: 0.0081 - val_loss: 4.7874 - val_acc: 0.0111\n",
            "Epoch 39/150\n",
            "7155/7155 [==============================] - 3s 454us/step - loss: 4.7878 - acc: 0.0094 - val_loss: 4.7874 - val_acc: 0.0101\n",
            "Epoch 40/150\n",
            "7155/7155 [==============================] - 3s 452us/step - loss: 4.7878 - acc: 0.0103 - val_loss: 4.7873 - val_acc: 0.0101\n",
            "Epoch 41/150\n",
            "7155/7155 [==============================] - 3s 452us/step - loss: 4.7878 - acc: 0.0091 - val_loss: 4.7873 - val_acc: 0.0104\n",
            "Epoch 42/150\n",
            "7155/7155 [==============================] - 3s 456us/step - loss: 4.7877 - acc: 0.0096 - val_loss: 4.7873 - val_acc: 0.0108\n",
            "Epoch 43/150\n",
            "7155/7155 [==============================] - 3s 453us/step - loss: 4.7876 - acc: 0.0092 - val_loss: 4.7872 - val_acc: 0.0104\n",
            "Epoch 44/150\n",
            "7155/7155 [==============================] - 3s 453us/step - loss: 4.7879 - acc: 0.0081 - val_loss: 4.7872 - val_acc: 0.0101\n",
            "Epoch 45/150\n",
            "7155/7155 [==============================] - 3s 456us/step - loss: 4.7878 - acc: 0.0091 - val_loss: 4.7872 - val_acc: 0.0101\n",
            "Epoch 46/150\n",
            "7155/7155 [==============================] - 3s 454us/step - loss: 4.7877 - acc: 0.0080 - val_loss: 4.7872 - val_acc: 0.0101\n",
            "Epoch 47/150\n",
            "7155/7155 [==============================] - 3s 455us/step - loss: 4.7875 - acc: 0.0092 - val_loss: 4.7871 - val_acc: 0.0101\n",
            "Epoch 48/150\n",
            "7155/7155 [==============================] - 4s 519us/step - loss: 4.7877 - acc: 0.0075 - val_loss: 4.7871 - val_acc: 0.0101\n",
            "Epoch 49/150\n",
            "7155/7155 [==============================] - 4s 611us/step - loss: 4.7876 - acc: 0.0087 - val_loss: 4.7871 - val_acc: 0.0101\n",
            "Epoch 50/150\n",
            "7155/7155 [==============================] - 5s 635us/step - loss: 4.7878 - acc: 0.0095 - val_loss: 4.7870 - val_acc: 0.0104\n",
            "Epoch 51/150\n",
            "7155/7155 [==============================] - 4s 614us/step - loss: 4.7875 - acc: 0.0098 - val_loss: 4.7870 - val_acc: 0.0104\n",
            "Epoch 52/150\n",
            "7155/7155 [==============================] - 4s 611us/step - loss: 4.7872 - acc: 0.0091 - val_loss: 4.7870 - val_acc: 0.0104\n",
            "Epoch 53/150\n",
            "7155/7155 [==============================] - 4s 606us/step - loss: 4.7873 - acc: 0.0102 - val_loss: 4.7870 - val_acc: 0.0104\n",
            "Epoch 54/150\n",
            "7155/7155 [==============================] - 5s 636us/step - loss: 4.7870 - acc: 0.0078 - val_loss: 4.7869 - val_acc: 0.0104\n",
            "Epoch 55/150\n",
            "7155/7155 [==============================] - 4s 599us/step - loss: 4.7870 - acc: 0.0094 - val_loss: 4.7869 - val_acc: 0.0104\n",
            "Epoch 56/150\n",
            "7155/7155 [==============================] - 4s 624us/step - loss: 4.7876 - acc: 0.0091 - val_loss: 4.7869 - val_acc: 0.0101\n",
            "Epoch 57/150\n",
            "7155/7155 [==============================] - 4s 612us/step - loss: 4.7874 - acc: 0.0098 - val_loss: 4.7869 - val_acc: 0.0101\n",
            "Epoch 58/150\n",
            "7155/7155 [==============================] - 4s 624us/step - loss: 4.7870 - acc: 0.0095 - val_loss: 4.7868 - val_acc: 0.0101\n",
            "Epoch 59/150\n",
            "7155/7155 [==============================] - 5s 632us/step - loss: 4.7873 - acc: 0.0094 - val_loss: 4.7868 - val_acc: 0.0101\n",
            "Epoch 60/150\n",
            "7155/7155 [==============================] - 4s 615us/step - loss: 4.7872 - acc: 0.0101 - val_loss: 4.7868 - val_acc: 0.0101\n",
            "Epoch 61/150\n",
            "7155/7155 [==============================] - 5s 635us/step - loss: 4.7870 - acc: 0.0102 - val_loss: 4.7867 - val_acc: 0.0101\n",
            "Epoch 62/150\n",
            "7155/7155 [==============================] - 5s 641us/step - loss: 4.7875 - acc: 0.0096 - val_loss: 4.7867 - val_acc: 0.0101\n",
            "Epoch 63/150\n",
            "7155/7155 [==============================] - 5s 645us/step - loss: 4.7866 - acc: 0.0112 - val_loss: 4.7867 - val_acc: 0.0101\n",
            "Epoch 64/150\n",
            "7155/7155 [==============================] - 5s 630us/step - loss: 4.7866 - acc: 0.0089 - val_loss: 4.7867 - val_acc: 0.0101\n",
            "Epoch 65/150\n",
            "7155/7155 [==============================] - 5s 638us/step - loss: 4.7869 - acc: 0.0108 - val_loss: 4.7866 - val_acc: 0.0101\n",
            "Epoch 66/150\n",
            "7155/7155 [==============================] - 5s 631us/step - loss: 4.7868 - acc: 0.0117 - val_loss: 4.7866 - val_acc: 0.0101\n",
            "Epoch 67/150\n",
            "7155/7155 [==============================] - 5s 635us/step - loss: 4.7867 - acc: 0.0110 - val_loss: 4.7866 - val_acc: 0.0101\n",
            "Epoch 68/150\n",
            "7155/7155 [==============================] - 4s 624us/step - loss: 4.7862 - acc: 0.0126 - val_loss: 4.7866 - val_acc: 0.0101\n",
            "Epoch 69/150\n",
            "7155/7155 [==============================] - 5s 632us/step - loss: 4.7868 - acc: 0.0110 - val_loss: 4.7865 - val_acc: 0.0101\n",
            "Epoch 70/150\n",
            "7155/7155 [==============================] - 4s 626us/step - loss: 4.7867 - acc: 0.0098 - val_loss: 4.7865 - val_acc: 0.0101\n",
            "Epoch 71/150\n",
            "7155/7155 [==============================] - 4s 620us/step - loss: 4.7867 - acc: 0.0095 - val_loss: 4.7865 - val_acc: 0.0101\n",
            "Epoch 72/150\n",
            "7155/7155 [==============================] - 5s 644us/step - loss: 4.7867 - acc: 0.0098 - val_loss: 4.7865 - val_acc: 0.0104\n",
            "Epoch 73/150\n",
            "7155/7155 [==============================] - 4s 623us/step - loss: 4.7866 - acc: 0.0112 - val_loss: 4.7864 - val_acc: 0.0104\n",
            "Epoch 74/150\n",
            "7155/7155 [==============================] - 4s 628us/step - loss: 4.7861 - acc: 0.0109 - val_loss: 4.7864 - val_acc: 0.0104\n",
            "Epoch 75/150\n",
            "7155/7155 [==============================] - 4s 625us/step - loss: 4.7867 - acc: 0.0127 - val_loss: 4.7864 - val_acc: 0.0101\n",
            "Epoch 76/150\n",
            "7155/7155 [==============================] - 4s 621us/step - loss: 4.7865 - acc: 0.0117 - val_loss: 4.7864 - val_acc: 0.0101\n",
            "Epoch 77/150\n",
            "7155/7155 [==============================] - 4s 596us/step - loss: 4.7866 - acc: 0.0084 - val_loss: 4.7863 - val_acc: 0.0101\n",
            "Epoch 78/150\n",
            "7155/7155 [==============================] - 4s 576us/step - loss: 4.7866 - acc: 0.0099 - val_loss: 4.7863 - val_acc: 0.0104\n",
            "Epoch 79/150\n",
            "7155/7155 [==============================] - 4s 536us/step - loss: 4.7860 - acc: 0.0117 - val_loss: 4.7863 - val_acc: 0.0104\n",
            "Epoch 80/150\n",
            "7155/7155 [==============================] - 4s 522us/step - loss: 4.7861 - acc: 0.0108 - val_loss: 4.7863 - val_acc: 0.0104\n",
            "Epoch 81/150\n",
            "7155/7155 [==============================] - 4s 510us/step - loss: 4.7862 - acc: 0.0088 - val_loss: 4.7863 - val_acc: 0.0108\n",
            "Epoch 82/150\n",
            "7155/7155 [==============================] - 4s 547us/step - loss: 4.7859 - acc: 0.0120 - val_loss: 4.7862 - val_acc: 0.0108\n",
            "Epoch 83/150\n",
            "7155/7155 [==============================] - 4s 559us/step - loss: 4.7857 - acc: 0.0099 - val_loss: 4.7862 - val_acc: 0.0114\n",
            "Epoch 84/150\n",
            "7155/7155 [==============================] - 4s 522us/step - loss: 4.7861 - acc: 0.0103 - val_loss: 4.7862 - val_acc: 0.0111\n",
            "Epoch 85/150\n",
            "7155/7155 [==============================] - 4s 508us/step - loss: 4.7862 - acc: 0.0080 - val_loss: 4.7862 - val_acc: 0.0108\n",
            "Epoch 86/150\n",
            "7155/7155 [==============================] - 4s 503us/step - loss: 4.7862 - acc: 0.0119 - val_loss: 4.7861 - val_acc: 0.0121\n",
            "Epoch 87/150\n",
            "7155/7155 [==============================] - 4s 500us/step - loss: 4.7855 - acc: 0.0099 - val_loss: 4.7861 - val_acc: 0.0124\n",
            "Epoch 88/150\n",
            "7155/7155 [==============================] - 4s 498us/step - loss: 4.7858 - acc: 0.0110 - val_loss: 4.7861 - val_acc: 0.0124\n",
            "Epoch 89/150\n",
            "7155/7155 [==============================] - 4s 570us/step - loss: 4.7856 - acc: 0.0109 - val_loss: 4.7861 - val_acc: 0.0124\n",
            "Epoch 90/150\n",
            "7155/7155 [==============================] - 4s 577us/step - loss: 4.7862 - acc: 0.0115 - val_loss: 4.7860 - val_acc: 0.0127\n",
            "Epoch 91/150\n",
            "7155/7155 [==============================] - 4s 604us/step - loss: 4.7860 - acc: 0.0108 - val_loss: 4.7860 - val_acc: 0.0124\n",
            "Epoch 92/150\n",
            "7155/7155 [==============================] - 4s 612us/step - loss: 4.7858 - acc: 0.0103 - val_loss: 4.7860 - val_acc: 0.0124\n",
            "Epoch 93/150\n",
            "7155/7155 [==============================] - 4s 530us/step - loss: 4.7859 - acc: 0.0117 - val_loss: 4.7860 - val_acc: 0.0124\n",
            "Epoch 94/150\n",
            "7155/7155 [==============================] - 4s 552us/step - loss: 4.7855 - acc: 0.0130 - val_loss: 4.7860 - val_acc: 0.0124\n",
            "Epoch 95/150\n",
            "7155/7155 [==============================] - 4s 507us/step - loss: 4.7857 - acc: 0.0122 - val_loss: 4.7859 - val_acc: 0.0127\n",
            "Epoch 96/150\n",
            "7155/7155 [==============================] - 4s 550us/step - loss: 4.7855 - acc: 0.0112 - val_loss: 4.7859 - val_acc: 0.0124\n",
            "Epoch 97/150\n",
            "7155/7155 [==============================] - 4s 538us/step - loss: 4.7855 - acc: 0.0101 - val_loss: 4.7859 - val_acc: 0.0130\n",
            "Epoch 98/150\n",
            "7155/7155 [==============================] - 4s 541us/step - loss: 4.7855 - acc: 0.0110 - val_loss: 4.7859 - val_acc: 0.0134\n",
            "Epoch 99/150\n",
            "7155/7155 [==============================] - 4s 530us/step - loss: 4.7861 - acc: 0.0110 - val_loss: 4.7858 - val_acc: 0.0140\n",
            "Epoch 100/150\n",
            "7155/7155 [==============================] - 4s 533us/step - loss: 4.7852 - acc: 0.0108 - val_loss: 4.7858 - val_acc: 0.0147\n",
            "Epoch 101/150\n",
            "7155/7155 [==============================] - 4s 515us/step - loss: 4.7854 - acc: 0.0109 - val_loss: 4.7858 - val_acc: 0.0150\n",
            "Epoch 102/150\n",
            "7155/7155 [==============================] - 4s 516us/step - loss: 4.7854 - acc: 0.0116 - val_loss: 4.7858 - val_acc: 0.0150\n",
            "Epoch 103/150\n",
            "7155/7155 [==============================] - 4s 501us/step - loss: 4.7855 - acc: 0.0112 - val_loss: 4.7858 - val_acc: 0.0147\n",
            "Epoch 104/150\n",
            "7155/7155 [==============================] - 4s 496us/step - loss: 4.7850 - acc: 0.0095 - val_loss: 4.7857 - val_acc: 0.0143\n",
            "Epoch 105/150\n",
            "7155/7155 [==============================] - 4s 495us/step - loss: 4.7853 - acc: 0.0091 - val_loss: 4.7857 - val_acc: 0.0140\n",
            "Epoch 106/150\n",
            "7155/7155 [==============================] - 4s 496us/step - loss: 4.7851 - acc: 0.0108 - val_loss: 4.7857 - val_acc: 0.0137\n",
            "Epoch 107/150\n",
            "7155/7155 [==============================] - 4s 502us/step - loss: 4.7852 - acc: 0.0098 - val_loss: 4.7857 - val_acc: 0.0134\n",
            "Epoch 108/150\n",
            "7155/7155 [==============================] - 4s 500us/step - loss: 4.7856 - acc: 0.0106 - val_loss: 4.7857 - val_acc: 0.0134\n",
            "Epoch 109/150\n",
            "7155/7155 [==============================] - 4s 500us/step - loss: 4.7857 - acc: 0.0108 - val_loss: 4.7856 - val_acc: 0.0134\n",
            "Epoch 110/150\n",
            "7155/7155 [==============================] - 4s 498us/step - loss: 4.7851 - acc: 0.0110 - val_loss: 4.7856 - val_acc: 0.0134\n",
            "Epoch 111/150\n",
            "7155/7155 [==============================] - 4s 498us/step - loss: 4.7851 - acc: 0.0095 - val_loss: 4.7856 - val_acc: 0.0134\n",
            "Epoch 112/150\n",
            "7155/7155 [==============================] - 4s 496us/step - loss: 4.7849 - acc: 0.0105 - val_loss: 4.7856 - val_acc: 0.0134\n",
            "Epoch 113/150\n",
            "7155/7155 [==============================] - 4s 504us/step - loss: 4.7852 - acc: 0.0096 - val_loss: 4.7856 - val_acc: 0.0134\n",
            "Epoch 114/150\n",
            "7155/7155 [==============================] - 4s 499us/step - loss: 4.7848 - acc: 0.0120 - val_loss: 4.7855 - val_acc: 0.0137\n",
            "Epoch 115/150\n",
            "7155/7155 [==============================] - 4s 507us/step - loss: 4.7849 - acc: 0.0098 - val_loss: 4.7855 - val_acc: 0.0137\n",
            "Epoch 116/150\n",
            "7155/7155 [==============================] - 4s 512us/step - loss: 4.7850 - acc: 0.0110 - val_loss: 4.7855 - val_acc: 0.0137\n",
            "Epoch 117/150\n",
            "7155/7155 [==============================] - 4s 495us/step - loss: 4.7848 - acc: 0.0131 - val_loss: 4.7855 - val_acc: 0.0137\n",
            "Epoch 118/150\n",
            "7155/7155 [==============================] - 4s 492us/step - loss: 4.7848 - acc: 0.0108 - val_loss: 4.7855 - val_acc: 0.0137\n",
            "Epoch 119/150\n",
            "7155/7155 [==============================] - 4s 560us/step - loss: 4.7847 - acc: 0.0116 - val_loss: 4.7854 - val_acc: 0.0137\n",
            "Epoch 120/150\n",
            "7155/7155 [==============================] - 4s 506us/step - loss: 4.7844 - acc: 0.0119 - val_loss: 4.7854 - val_acc: 0.0137\n",
            "Epoch 121/150\n",
            "7155/7155 [==============================] - 4s 527us/step - loss: 4.7848 - acc: 0.0117 - val_loss: 4.7854 - val_acc: 0.0137\n",
            "Epoch 122/150\n",
            "7155/7155 [==============================] - 4s 530us/step - loss: 4.7846 - acc: 0.0117 - val_loss: 4.7854 - val_acc: 0.0137\n",
            "Epoch 123/150\n",
            "7155/7155 [==============================] - 4s 533us/step - loss: 4.7850 - acc: 0.0117 - val_loss: 4.7854 - val_acc: 0.0137\n",
            "Epoch 124/150\n",
            "7155/7155 [==============================] - 4s 536us/step - loss: 4.7853 - acc: 0.0103 - val_loss: 4.7853 - val_acc: 0.0137\n",
            "Epoch 125/150\n",
            "7155/7155 [==============================] - 4s 534us/step - loss: 4.7845 - acc: 0.0119 - val_loss: 4.7853 - val_acc: 0.0137\n",
            "Epoch 126/150\n",
            "7155/7155 [==============================] - 4s 544us/step - loss: 4.7849 - acc: 0.0088 - val_loss: 4.7853 - val_acc: 0.0137\n",
            "Epoch 127/150\n",
            "7155/7155 [==============================] - 4s 559us/step - loss: 4.7845 - acc: 0.0123 - val_loss: 4.7853 - val_acc: 0.0137\n",
            "Epoch 128/150\n",
            "7155/7155 [==============================] - 4s 546us/step - loss: 4.7843 - acc: 0.0120 - val_loss: 4.7853 - val_acc: 0.0137\n",
            "Epoch 129/150\n",
            "7155/7155 [==============================] - 4s 556us/step - loss: 4.7843 - acc: 0.0117 - val_loss: 4.7852 - val_acc: 0.0137\n",
            "Epoch 130/150\n",
            "7155/7155 [==============================] - 4s 560us/step - loss: 4.7844 - acc: 0.0115 - val_loss: 4.7852 - val_acc: 0.0137\n",
            "Epoch 131/150\n",
            "7155/7155 [==============================] - 4s 551us/step - loss: 4.7849 - acc: 0.0089 - val_loss: 4.7852 - val_acc: 0.0137\n",
            "Epoch 132/150\n",
            "7155/7155 [==============================] - 4s 553us/step - loss: 4.7843 - acc: 0.0122 - val_loss: 4.7852 - val_acc: 0.0137\n",
            "Epoch 133/150\n",
            "7155/7155 [==============================] - 4s 553us/step - loss: 4.7843 - acc: 0.0120 - val_loss: 4.7852 - val_acc: 0.0137\n",
            "Epoch 134/150\n",
            "7155/7155 [==============================] - 4s 562us/step - loss: 4.7850 - acc: 0.0089 - val_loss: 4.7851 - val_acc: 0.0137\n",
            "Epoch 135/150\n",
            "7155/7155 [==============================] - 4s 548us/step - loss: 4.7844 - acc: 0.0095 - val_loss: 4.7851 - val_acc: 0.0137\n",
            "Epoch 136/150\n",
            "7155/7155 [==============================] - 4s 550us/step - loss: 4.7839 - acc: 0.0101 - val_loss: 4.7851 - val_acc: 0.0137\n",
            "Epoch 137/150\n",
            "7155/7155 [==============================] - 4s 544us/step - loss: 4.7844 - acc: 0.0115 - val_loss: 4.7851 - val_acc: 0.0137\n",
            "Epoch 138/150\n",
            "7155/7155 [==============================] - 4s 543us/step - loss: 4.7844 - acc: 0.0105 - val_loss: 4.7851 - val_acc: 0.0137\n",
            "Epoch 139/150\n",
            "7155/7155 [==============================] - 4s 543us/step - loss: 4.7846 - acc: 0.0106 - val_loss: 4.7851 - val_acc: 0.0137\n",
            "Epoch 140/150\n",
            "7155/7155 [==============================] - 4s 542us/step - loss: 4.7843 - acc: 0.0113 - val_loss: 4.7850 - val_acc: 0.0137\n",
            "Epoch 141/150\n",
            "7155/7155 [==============================] - 4s 548us/step - loss: 4.7841 - acc: 0.0115 - val_loss: 4.7850 - val_acc: 0.0137\n",
            "Epoch 142/150\n",
            "7155/7155 [==============================] - 4s 541us/step - loss: 4.7839 - acc: 0.0113 - val_loss: 4.7850 - val_acc: 0.0137\n",
            "Epoch 143/150\n",
            "7155/7155 [==============================] - 4s 544us/step - loss: 4.7840 - acc: 0.0106 - val_loss: 4.7850 - val_acc: 0.0137\n",
            "Epoch 144/150\n",
            "7155/7155 [==============================] - 4s 540us/step - loss: 4.7838 - acc: 0.0116 - val_loss: 4.7850 - val_acc: 0.0137\n",
            "Epoch 145/150\n",
            "7155/7155 [==============================] - 4s 544us/step - loss: 4.7835 - acc: 0.0138 - val_loss: 4.7850 - val_acc: 0.0137\n",
            "Epoch 146/150\n",
            "7155/7155 [==============================] - 4s 545us/step - loss: 4.7838 - acc: 0.0109 - val_loss: 4.7849 - val_acc: 0.0137\n",
            "Epoch 147/150\n",
            "7155/7155 [==============================] - 4s 541us/step - loss: 4.7842 - acc: 0.0113 - val_loss: 4.7849 - val_acc: 0.0137\n",
            "Epoch 148/150\n",
            "7155/7155 [==============================] - 4s 542us/step - loss: 4.7841 - acc: 0.0115 - val_loss: 4.7849 - val_acc: 0.0137\n",
            "Epoch 149/150\n",
            "7155/7155 [==============================] - 4s 543us/step - loss: 4.7841 - acc: 0.0112 - val_loss: 4.7849 - val_acc: 0.0137\n",
            "Epoch 150/150\n",
            "7155/7155 [==============================] - 4s 545us/step - loss: 4.7839 - acc: 0.0119 - val_loss: 4.7849 - val_acc: 0.0137\n"
          ],
          "name": "stdout"
        }
      ]
    },
    {
      "metadata": {
        "id": "IxD8C8AghPv9",
        "colab_type": "text"
      },
      "cell_type": "markdown",
      "source": [
        "**Changing Xception Base to improve the performance** "
      ]
    },
    {
      "metadata": {
        "id": "UmPHQZm3ohbY",
        "colab_type": "code",
        "colab": {}
      },
      "cell_type": "code",
      "source": [
        "\n",
        "model1 = Sequential()\n",
        "for layer in base_model.layers:\n",
        "        layer.trainable = False\n",
        "\n",
        "model1.add(base_model)\n",
        "model1.add(GlobalAveragePooling2D())\n",
        "model1.add(Dense(num_class, activation='softmax'))"
      ],
      "execution_count": 0,
      "outputs": []
    },
    {
      "metadata": {
        "id": "Fyl6fca7pqm3",
        "colab_type": "code",
        "colab": {}
      },
      "cell_type": "code",
      "source": [
        "opt = optimizers.Adam(lr = learning_rate)\n",
        "model1.compile(loss='categorical_crossentropy',optimizer=opt,metrics=['accuracy'])"
      ],
      "execution_count": 0,
      "outputs": []
    },
    {
      "metadata": {
        "id": "xyM7CAO-p9le",
        "colab_type": "code",
        "colab": {
          "base_uri": "https://localhost:8080/",
          "height": 1784
        },
        "outputId": "50ea604c-d982-4e20-ba55-205038ef0896"
      },
      "cell_type": "code",
      "source": [
        "fit_m =model1.fit(x_train,y_train, batch_size=32, epochs=50,validation_data=(x_test,y_test),shuffle=True)"
      ],
      "execution_count": 15,
      "outputs": [
        {
          "output_type": "stream",
          "text": [
            "WARNING:tensorflow:From /usr/local/lib/python3.6/dist-packages/tensorflow/python/ops/math_ops.py:3066: to_int32 (from tensorflow.python.ops.math_ops) is deprecated and will be removed in a future version.\n",
            "Instructions for updating:\n",
            "Use tf.cast instead.\n",
            "Train on 7155 samples, validate on 3067 samples\n",
            "Epoch 1/50\n",
            "7155/7155 [==============================] - 49s 7ms/step - loss: 4.2824 - acc: 0.1126 - val_loss: 4.7871 - val_acc: 0.0065\n",
            "Epoch 2/50\n",
            "7155/7155 [==============================] - 41s 6ms/step - loss: 3.3637 - acc: 0.3029 - val_loss: 4.7874 - val_acc: 0.0068\n",
            "Epoch 3/50\n",
            "7155/7155 [==============================] - 41s 6ms/step - loss: 2.9725 - acc: 0.4017 - val_loss: 4.7871 - val_acc: 0.0072\n",
            "Epoch 4/50\n",
            "7155/7155 [==============================] - 42s 6ms/step - loss: 2.6982 - acc: 0.4646 - val_loss: 4.7881 - val_acc: 0.0068\n",
            "Epoch 5/50\n",
            "7155/7155 [==============================] - 42s 6ms/step - loss: 2.4865 - acc: 0.5188 - val_loss: 4.7881 - val_acc: 0.0068\n",
            "Epoch 6/50\n",
            "7155/7155 [==============================] - 42s 6ms/step - loss: 2.3104 - acc: 0.5617 - val_loss: 4.7891 - val_acc: 0.0098\n",
            "Epoch 7/50\n",
            "7155/7155 [==============================] - 42s 6ms/step - loss: 2.1752 - acc: 0.5943 - val_loss: 4.7898 - val_acc: 0.0068\n",
            "Epoch 8/50\n",
            "7155/7155 [==============================] - 41s 6ms/step - loss: 2.0294 - acc: 0.6287 - val_loss: 4.7913 - val_acc: 0.0068\n",
            "Epoch 9/50\n",
            "7155/7155 [==============================] - 40s 6ms/step - loss: 1.9189 - acc: 0.6551 - val_loss: 4.7918 - val_acc: 0.0068\n",
            "Epoch 10/50\n",
            "7155/7155 [==============================] - 41s 6ms/step - loss: 1.8172 - acc: 0.6820 - val_loss: 4.7931 - val_acc: 0.0068\n",
            "Epoch 11/50\n",
            "7155/7155 [==============================] - 40s 6ms/step - loss: 1.7299 - acc: 0.7052 - val_loss: 4.7935 - val_acc: 0.0068\n",
            "Epoch 12/50\n",
            "7155/7155 [==============================] - 40s 6ms/step - loss: 1.6630 - acc: 0.7216 - val_loss: 4.7943 - val_acc: 0.0068\n",
            "Epoch 13/50\n",
            "7155/7155 [==============================] - 42s 6ms/step - loss: 1.5605 - acc: 0.7479 - val_loss: 4.7957 - val_acc: 0.0068\n",
            "Epoch 14/50\n",
            "7155/7155 [==============================] - 42s 6ms/step - loss: 1.5032 - acc: 0.7572 - val_loss: 4.7969 - val_acc: 0.0068\n",
            "Epoch 15/50\n",
            "7155/7155 [==============================] - 42s 6ms/step - loss: 1.4487 - acc: 0.7715 - val_loss: 4.7970 - val_acc: 0.0068\n",
            "Epoch 16/50\n",
            "7155/7155 [==============================] - 41s 6ms/step - loss: 1.3825 - acc: 0.7870 - val_loss: 4.7983 - val_acc: 0.0068\n",
            "Epoch 17/50\n",
            "7155/7155 [==============================] - 41s 6ms/step - loss: 1.3304 - acc: 0.7994 - val_loss: 4.7996 - val_acc: 0.0068\n",
            "Epoch 18/50\n",
            "7155/7155 [==============================] - 41s 6ms/step - loss: 1.2665 - acc: 0.8164 - val_loss: 4.8001 - val_acc: 0.0068\n",
            "Epoch 19/50\n",
            "7155/7155 [==============================] - 42s 6ms/step - loss: 1.2190 - acc: 0.8179 - val_loss: 4.8005 - val_acc: 0.0068\n",
            "Epoch 20/50\n",
            "7155/7155 [==============================] - 42s 6ms/step - loss: 1.1739 - acc: 0.8338 - val_loss: 4.8029 - val_acc: 0.0068\n",
            "Epoch 21/50\n",
            "7155/7155 [==============================] - 42s 6ms/step - loss: 1.1298 - acc: 0.8423 - val_loss: 4.8042 - val_acc: 0.0068\n",
            "Epoch 22/50\n",
            "7155/7155 [==============================] - 42s 6ms/step - loss: 1.1120 - acc: 0.8496 - val_loss: 4.8052 - val_acc: 0.0068\n",
            "Epoch 23/50\n",
            "7155/7155 [==============================] - 40s 6ms/step - loss: 1.0634 - acc: 0.8512 - val_loss: 4.8064 - val_acc: 0.0068\n",
            "Epoch 24/50\n",
            "7155/7155 [==============================] - 41s 6ms/step - loss: 1.0297 - acc: 0.8629 - val_loss: 4.8074 - val_acc: 0.0068\n",
            "Epoch 25/50\n",
            "7155/7155 [==============================] - 41s 6ms/step - loss: 0.9994 - acc: 0.8637 - val_loss: 4.8084 - val_acc: 0.0068\n",
            "Epoch 26/50\n",
            "7155/7155 [==============================] - 41s 6ms/step - loss: 0.9704 - acc: 0.8732 - val_loss: 4.8106 - val_acc: 0.0068\n",
            "Epoch 27/50\n",
            "7155/7155 [==============================] - 42s 6ms/step - loss: 0.9306 - acc: 0.8780 - val_loss: 4.8127 - val_acc: 0.0068\n",
            "Epoch 28/50\n",
            "7155/7155 [==============================] - 42s 6ms/step - loss: 0.9008 - acc: 0.8865 - val_loss: 4.8123 - val_acc: 0.0068\n",
            "Epoch 29/50\n",
            "7155/7155 [==============================] - 42s 6ms/step - loss: 0.8795 - acc: 0.8894 - val_loss: 4.8142 - val_acc: 0.0068\n",
            "Epoch 30/50\n",
            "7155/7155 [==============================] - 41s 6ms/step - loss: 0.8386 - acc: 0.8984 - val_loss: 4.8168 - val_acc: 0.0068\n",
            "Epoch 31/50\n",
            "7155/7155 [==============================] - 41s 6ms/step - loss: 0.8276 - acc: 0.8978 - val_loss: 4.8167 - val_acc: 0.0068\n",
            "Epoch 32/50\n",
            "7155/7155 [==============================] - 41s 6ms/step - loss: 0.7990 - acc: 0.9048 - val_loss: 4.8179 - val_acc: 0.0068\n",
            "Epoch 33/50\n",
            "7155/7155 [==============================] - 42s 6ms/step - loss: 0.7711 - acc: 0.9065 - val_loss: 4.8189 - val_acc: 0.0068\n",
            "Epoch 34/50\n",
            "7155/7155 [==============================] - 42s 6ms/step - loss: 0.7648 - acc: 0.9089 - val_loss: 4.8212 - val_acc: 0.0068\n",
            "Epoch 35/50\n",
            "7155/7155 [==============================] - 42s 6ms/step - loss: 0.7253 - acc: 0.9150 - val_loss: 4.8218 - val_acc: 0.0068\n",
            "Epoch 36/50\n",
            "7155/7155 [==============================] - 42s 6ms/step - loss: 0.7174 - acc: 0.9152 - val_loss: 4.8246 - val_acc: 0.0068\n",
            "Epoch 37/50\n",
            "7155/7155 [==============================] - 41s 6ms/step - loss: 0.6966 - acc: 0.9170 - val_loss: 4.8260 - val_acc: 0.0068\n",
            "Epoch 38/50\n",
            "7155/7155 [==============================] - 41s 6ms/step - loss: 0.7026 - acc: 0.9184 - val_loss: 4.8257 - val_acc: 0.0068\n",
            "Epoch 39/50\n",
            "7155/7155 [==============================] - 41s 6ms/step - loss: 0.6571 - acc: 0.9259 - val_loss: 4.8292 - val_acc: 0.0068\n",
            "Epoch 40/50\n",
            "7155/7155 [==============================] - 42s 6ms/step - loss: 0.6466 - acc: 0.9242 - val_loss: 4.8296 - val_acc: 0.0068\n",
            "Epoch 41/50\n",
            "7155/7155 [==============================] - 42s 6ms/step - loss: 0.6278 - acc: 0.9325 - val_loss: 4.8316 - val_acc: 0.0068\n",
            "Epoch 42/50\n",
            "7155/7155 [==============================] - 41s 6ms/step - loss: 0.6227 - acc: 0.9283 - val_loss: 4.8339 - val_acc: 0.0068\n",
            "Epoch 43/50\n",
            "7155/7155 [==============================] - 41s 6ms/step - loss: 0.6072 - acc: 0.9335 - val_loss: 4.8337 - val_acc: 0.0068\n",
            "Epoch 44/50\n",
            "7155/7155 [==============================] - 42s 6ms/step - loss: 0.5836 - acc: 0.9363 - val_loss: 4.8350 - val_acc: 0.0068\n",
            "Epoch 45/50\n",
            "7155/7155 [==============================] - 42s 6ms/step - loss: 0.5543 - acc: 0.9406 - val_loss: 4.8365 - val_acc: 0.0068\n",
            "Epoch 46/50\n",
            "7155/7155 [==============================] - 42s 6ms/step - loss: 0.5626 - acc: 0.9386 - val_loss: 4.8384 - val_acc: 0.0068\n",
            "Epoch 47/50\n",
            "7155/7155 [==============================] - 41s 6ms/step - loss: 0.5572 - acc: 0.9371 - val_loss: 4.8410 - val_acc: 0.0068\n",
            "Epoch 48/50\n",
            "7155/7155 [==============================] - 41s 6ms/step - loss: 0.5463 - acc: 0.9396 - val_loss: 4.8411 - val_acc: 0.0068\n",
            "Epoch 49/50\n",
            "7155/7155 [==============================] - 40s 6ms/step - loss: 0.5397 - acc: 0.9409 - val_loss: 4.8406 - val_acc: 0.0068\n",
            "Epoch 50/50\n",
            "7155/7155 [==============================] - 41s 6ms/step - loss: 0.5296 - acc: 0.9426 - val_loss: 4.8433 - val_acc: 0.0068\n"
          ],
          "name": "stdout"
        }
      ]
    }
  ]
}